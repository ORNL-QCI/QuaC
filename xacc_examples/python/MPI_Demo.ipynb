{
 "cells": [
  {
   "cell_type": "code",
   "execution_count": 4,
   "metadata": {},
   "outputs": [],
   "source": [
    "# Import some modules\n",
    "import subprocess, os, re\n",
    "import numpy as np"
   ]
  },
  {
   "cell_type": "code",
   "execution_count": 5,
   "metadata": {},
   "outputs": [],
   "source": [
    "# Find MPI Exec of PETSc\n",
    "petsc_dir = os.getenv('PETSC_DIR')\n",
    "petsc_arch = os.environ.get('PETSC_ARCH')\n",
    "mpi_exec = petsc_dir + '/' + petsc_arch + '/bin/mpiexec.hydra'\n",
    "# Executable\n",
    "# NOTE: make sure this is pointing to the correct executable\n",
    "exeFile = './mpi_demo'"
   ]
  },
  {
   "cell_type": "code",
   "execution_count": 6,
   "metadata": {},
   "outputs": [],
   "source": [
    "# Qubits: 4 to 10\n",
    "nbQubitList = np.arange(4, 11)\n",
    "\n",
    "# Number of MPI processes: \n",
    "nbProcs = np.array([1, 2, 4])\n",
    "\n",
    "# Result array (elapse time)\n",
    "elapsedTimeResults = np.zeros((nbQubitList.size, nbProcs.size), dtype = float)"
   ]
  },
  {
   "cell_type": "code",
   "execution_count": 7,
   "metadata": {},
   "outputs": [
    {
     "name": "stdout",
     "output_type": "stream",
     "text": [
      "We're running 4 qubits with 1 processes\n"
     ]
    },
    {
     "ename": "ValueError",
     "evalue": "Failed to run the executable.",
     "output_type": "error",
     "traceback": [
      "\u001b[0;31m---------------------------------------------------------------------------\u001b[0m",
      "\u001b[0;31mValueError\u001b[0m                                Traceback (most recent call last)",
      "\u001b[0;32m<ipython-input-7-e2a71fed71f7>\u001b[0m in \u001b[0;36m<module>\u001b[0;34m()\u001b[0m\n\u001b[1;32m     12\u001b[0m                                     stdout=subprocess.PIPE, stderr=subprocess.PIPE)\n\u001b[1;32m     13\u001b[0m         \u001b[0;32mif\u001b[0m \u001b[0mlen\u001b[0m\u001b[0;34m(\u001b[0m\u001b[0mexecResult\u001b[0m\u001b[0;34m.\u001b[0m\u001b[0mstderr\u001b[0m\u001b[0;34m.\u001b[0m\u001b[0mdecode\u001b[0m\u001b[0;34m(\u001b[0m\u001b[0;34m\"utf-8\"\u001b[0m\u001b[0;34m)\u001b[0m\u001b[0;34m)\u001b[0m \u001b[0;34m>\u001b[0m \u001b[0;36m0\u001b[0m\u001b[0;34m:\u001b[0m\u001b[0;34m\u001b[0m\u001b[0;34m\u001b[0m\u001b[0m\n\u001b[0;32m---> 14\u001b[0;31m             \u001b[0;32mraise\u001b[0m \u001b[0mValueError\u001b[0m\u001b[0;34m(\u001b[0m\u001b[0;34m'Failed to run the executable.'\u001b[0m\u001b[0;34m)\u001b[0m\u001b[0;34m\u001b[0m\u001b[0;34m\u001b[0m\u001b[0m\n\u001b[0m\u001b[1;32m     15\u001b[0m         \u001b[0melapTime\u001b[0m \u001b[0;34m=\u001b[0m \u001b[0mfloat\u001b[0m\u001b[0;34m(\u001b[0m\u001b[0mre\u001b[0m\u001b[0;34m.\u001b[0m\u001b[0msearch\u001b[0m\u001b[0;34m(\u001b[0m\u001b[0;34m'Total elapsed time =(.*)\\[ms\\]'\u001b[0m\u001b[0;34m,\u001b[0m \u001b[0mexecResult\u001b[0m\u001b[0;34m.\u001b[0m\u001b[0mstdout\u001b[0m\u001b[0;34m.\u001b[0m\u001b[0mdecode\u001b[0m\u001b[0;34m(\u001b[0m\u001b[0;34m\"utf-8\"\u001b[0m\u001b[0;34m)\u001b[0m\u001b[0;34m)\u001b[0m\u001b[0;34m.\u001b[0m\u001b[0mgroup\u001b[0m\u001b[0;34m(\u001b[0m\u001b[0;36m1\u001b[0m\u001b[0;34m)\u001b[0m\u001b[0;34m)\u001b[0m\u001b[0;34m\u001b[0m\u001b[0;34m\u001b[0m\u001b[0m\n\u001b[1;32m     16\u001b[0m         \u001b[0melapsedTimeResults\u001b[0m\u001b[0;34m[\u001b[0m\u001b[0mi\u001b[0m\u001b[0;34m,\u001b[0m \u001b[0mj\u001b[0m\u001b[0;34m]\u001b[0m \u001b[0;34m=\u001b[0m \u001b[0melapTime\u001b[0m\u001b[0;34m\u001b[0m\u001b[0;34m\u001b[0m\u001b[0m\n",
      "\u001b[0;31mValueError\u001b[0m: Failed to run the executable."
     ]
    }
   ],
   "source": [
    "for i in range(0, nbQubitList.size):\n",
    "    for j in range(0, nbProcs.size):\n",
    "        nbQubits = nbQubitList[i]\n",
    "        nbProcesses = nbProcs[j]\n",
    "        print(\"We're running %d qubits with %d processes\" % (nbQubits, nbProcesses))\n",
    "        # Run the simulation\n",
    "        execResult = subprocess.run([mpi_exec, \n",
    "                                     \"-n\", \"1\", \n",
    "                                     exeFile, \n",
    "                                     \"-nq\", str(nbQubits), \n",
    "                                     \"-nprocs\", str(nbProcesses)], \n",
    "                                    stdout=subprocess.PIPE, stderr=subprocess.PIPE)\n",
    "        if len(execResult.stderr.decode(\"utf-8\")) > 0:\n",
    "            raise ValueError('Failed to run the executable.')\n",
    "        elapTime = float(re.search('Total elapsed time =(.*)\\[ms\\]', execResult.stdout.decode(\"utf-8\")).group(1))\n",
    "        elapsedTimeResults[i, j] = elapTime\n",
    "        print(elapTime)\n",
    "# Save the result to file\n",
    "np.savetxt('run_result.csv', elapsedTimeResults, delimiter=',') "
   ]
  },
  {
   "cell_type": "code",
   "execution_count": null,
   "metadata": {},
   "outputs": [],
   "source": []
  }
 ],
 "metadata": {
  "kernelspec": {
   "display_name": "Python 3",
   "language": "python",
   "name": "python3"
  },
  "language_info": {
   "codemirror_mode": {
    "name": "ipython",
    "version": 3
   },
   "file_extension": ".py",
   "mimetype": "text/x-python",
   "name": "python",
   "nbconvert_exporter": "python",
   "pygments_lexer": "ipython3",
   "version": "3.6.9"
  }
 },
 "nbformat": 4,
 "nbformat_minor": 4
}
